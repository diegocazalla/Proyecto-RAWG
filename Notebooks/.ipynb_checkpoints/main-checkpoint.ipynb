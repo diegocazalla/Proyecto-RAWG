{
 "cells": [
  {
   "cell_type": "code",
   "execution_count": null,
   "id": "2cdd4bb4-d081-44d5-ba41-416376fadbf5",
   "metadata": {},
   "outputs": [],
   "source": [
    "import os\n",
    "import logging\n",
    "from rawg.db import get_conn, get_last_added, insert_games\n",
    "from rawg.rawg_api import fetch_new_games\n",
    "from rawg.storage import save_local, upload_s3\n",
    "\n",
    "# Configuración del logger\n",
    "logger = logging.getLogger(__name__)\n",
    "logger.setLevel(logging.INFO)\n",
    "\n",
    "# Función principal que ejecuta el flujo de trabajo\n",
    "def main():\n",
    "    try:\n",
    "        # Establecer conexión a la base de datos\n",
    "        conn = get_conn()\n",
    "        \n",
    "        # Obtener la fecha del último juego agregado\n",
    "        last_added = get_last_added(conn)\n",
    "        logger.info(f\"Último juego agregado: {last_added}\")\n",
    "        \n",
    "        # Obtener nuevos juegos desde la API de RAWG\n",
    "        new_games = fetch_new_games(last_added)\n",
    "        if not new_games:\n",
    "            logger.info(\"No hay juegos nuevos.\")\n",
    "            return\n",
    "        \n",
    "        # Guardar los juegos localmente\n",
    "        path = save_local(new_games)\n",
    "        logger.info(f\"Juegos guardados en: {path}\")\n",
    "        \n",
    "        # Subir los juegos a Amazon S3\n",
    "        upload_s3(path)\n",
    "        logger.info(\"Juegos subidos a S3.\")\n",
    "        \n",
    "        # Insertar los juegos en la base de datos\n",
    "        count = insert_games(conn, new_games)\n",
    "        logger.info(f\"{count} juegos nuevos insertados en la base de datos.\")\n",
    "        \n",
    "    except Exception as e:\n",
    "        logger.exception(\"Ocurrió un error durante el proceso.\")\n",
    "    finally:\n",
    "        if conn:\n",
    "            conn.close()\n",
    "\n",
    "# Ejecutar la función principal\n",
    "if __name__ == \"__main__\":\n",
    "    main()"
   ]
  }
 ],
 "metadata": {
  "kernelspec": {
   "display_name": "Python 3 (ipykernel)",
   "language": "python",
   "name": "python3"
  },
  "language_info": {
   "codemirror_mode": {
    "name": "ipython",
    "version": 3
   },
   "file_extension": ".py",
   "mimetype": "text/x-python",
   "name": "python",
   "nbconvert_exporter": "python",
   "pygments_lexer": "ipython3",
   "version": "3.12.7"
  }
 },
 "nbformat": 4,
 "nbformat_minor": 5
}
